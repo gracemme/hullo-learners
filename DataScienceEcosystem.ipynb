{
  "metadata": {
    "kernelspec": {
      "name": "python",
      "display_name": "Python (Pyodide)",
      "language": "python"
    },
    "language_info": {
      "codemirror_mode": {
        "name": "python",
        "version": 3
      },
      "file_extension": ".py",
      "mimetype": "text/x-python",
      "name": "python",
      "nbconvert_exporter": "python",
      "pygments_lexer": "ipython3",
      "version": "3.8"
    }
  },
  "nbformat_minor": 5,
  "nbformat": 4,
  "cells": [
    {
      "id": "7f176c14-5f63-4c36-8a9c-d5982c7cfbb8",
      "cell_type": "markdown",
      "source": "# Data Science Tools and Ecosystem",
      "metadata": {}
    },
    {
      "id": "6175263f-0bd0-4e3c-bb54-26ea8764f651",
      "cell_type": "markdown",
      "source": "## Author\nGrace McCullough",
      "metadata": {}
    },
    {
      "id": "2acab024-ef9d-4f04-a145-f3d2064e9923",
      "cell_type": "markdown",
      "source": "In this notebook, Data Science Tools and Ecosystem are summarized.",
      "metadata": {}
    },
    {
      "id": "5a6fc034-0ef0-4c65-9572-5714b53b4833",
      "cell_type": "markdown",
      "source": "**Objectives:**\n* List popular languages for Data Science\n* Describe how to use the notebooks in JupyterLab\n* Use the inbuilt R plot function",
      "metadata": {}
    },
    {
      "id": "66abe30f-b6cb-4a7a-b535-f648d534c551",
      "cell_type": "markdown",
      "source": "Some of the popular languages that Data Scientists use are:\n1. Python\n2. R\n3. SQL",
      "metadata": {}
    },
    {
      "id": "25741310-9e9c-43f7-be93-02de3f3964c4",
      "cell_type": "markdown",
      "source": "Some of the commonly used libraries used by Data Scientists include:\n1. Pandas\n2. Matplotlib\n3. Scikit-Learn",
      "metadata": {}
    },
    {
      "id": "a67b9c97-556f-4b31-88eb-3486810e192c",
      "cell_type": "markdown",
      "source": "| Data Science Tools |\n|--------------------|\n| Jupyter |\n| Zeppelin |\n| R Studio |",
      "metadata": {}
    },
    {
      "id": "552ba5f2-a09f-4dbd-81c6-3b3cac1e94ff",
      "cell_type": "markdown",
      "source": "### Below are a few examples of evaluating arithmetic expressions in Python",
      "metadata": {}
    },
    {
      "id": "7af3843a-fb73-4596-ba94-2b42ea1f083b",
      "cell_type": "code",
      "source": "# This a simple arithmetic expression to mutiply then add integers\n(3*4)+5",
      "metadata": {
        "trusted": true
      },
      "outputs": [
        {
          "execution_count": 1,
          "output_type": "execute_result",
          "data": {
            "text/plain": "17"
          },
          "metadata": {}
        }
      ],
      "execution_count": 1
    },
    {
      "id": "fef92408-8525-48ec-b96a-da7601e281d4",
      "cell_type": "code",
      "source": "# This will convert 200 minutes to hours by diving by 60\n200/60",
      "metadata": {
        "trusted": true
      },
      "outputs": [
        {
          "execution_count": 2,
          "output_type": "execute_result",
          "data": {
            "text/plain": "3.3333333333333335"
          },
          "metadata": {}
        }
      ],
      "execution_count": 2
    }
  ]
}